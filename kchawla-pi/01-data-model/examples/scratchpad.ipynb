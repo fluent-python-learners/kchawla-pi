{
 "cells": [
  {
   "cell_type": "code",
   "execution_count": null,
   "metadata": {
    "collapsed": true
   },
   "outputs": [],
   "source": [
    "import collections\n",
    "\n",
    "Card = collections.namedtuple('Card', 'rank suite')\n",
    "\n",
    "class FrenchDeck(object):\n",
    "    Ranks = [rank_ for rank_ in range(1, 11)] + list('JQKA')\n",
    "    Suites = 'Spades Hearts Clubs Diamonds'.split()\n",
    "    \n",
    "    def __init__(self):\n",
    "        self._cards = [Card(rank=rank_, suite=suite_) for rank_ in ranks for suite_ in suites]\n",
    "        \n",
    "    def __getitem__(self, position):\n",
    "        return self._cards[position]\n",
    "    \n",
    "    def __len__(self):\n",
    "        return len(self._cards)\n",
    "    \n",
    "deck0 = FrenchDeck()\n",
    "print(deck0)"
   ]
  }
 ],
 "metadata": {
  "kernelspec": {
   "display_name": "Python 2",
   "language": "python",
   "name": "python2"
  },
  "language_info": {
   "codemirror_mode": {
    "name": "ipython",
    "version": 2
   },
   "file_extension": ".py",
   "mimetype": "text/x-python",
   "name": "python",
   "nbconvert_exporter": "python",
   "pygments_lexer": "ipython2",
   "version": "2.7.6"
  }
 },
 "nbformat": 4,
 "nbformat_minor": 0
}
