{
 "cells": [
  {
   "cell_type": "code",
   "execution_count": 36,
   "metadata": {
    "collapsed": false
   },
   "outputs": [
    {
     "name": "stdout",
     "output_type": "stream",
     "text": [
      "3.0\n"
     ]
    },
    {
     "data": {
      "text/plain": [
       "4"
      ]
     },
     "execution_count": 36,
     "metadata": {},
     "output_type": "execute_result"
    }
   ],
   "source": [
    "import array\n",
    "\n",
    "arr0 = array.array('d', [3])\n",
    "print(arr0[0])\n",
    "\n",
    "array.typecodes # string with all possible data type codes\n",
    "arr0.typecode  # which data type was given at array creation\n",
    "arr0.itemsize  # length of array in memory in bytes ??? length in bytes??\n",
    "arr0.append(1)  # adds single element at the end\n",
    "# arr0.append([1, 2])  # TypeError, arg must be real number not list.\n",
    "arr0[0]\n",
    "arr0.buffer_info()  # gives the address of the buffer in memory\n",
    "arr0.buffer_info()[1] * arr0.itemsize  # total memory occupied by array\n",
    "arr0.extend([1, 2, 3, 3, 3.0])\n",
    "arr0\n",
    "arr0.count(3.0)"
   ]
  },
  {
   "cell_type": "code",
   "execution_count": 51,
   "metadata": {},
   "outputs": [
    {
     "name": "stdout",
     "output_type": "stream",
     "text": [
      "(0, 1, [2, 3, 2, 3])\n"
     ]
    }
   ],
   "source": [
    "import dis\n",
    "\n",
    "# dis.dis('a_tuple = (0, 1, [2, 3])')\n",
    "\n",
    "a_tuple = (0, 1, [2, 3])\n",
    "try:\n",
    "    a_tuple[2] *= 2\n",
    "except TypeError:\n",
    "    print(a_tuple)\n",
    "\n"
   ]
  }
 ],
 "metadata": {
  "kernelspec": {
   "display_name": "Python 2",
   "language": "python",
   "name": "python2"
  },
  "language_info": {
   "codemirror_mode": {
    "name": "ipython",
    "version": 2
   },
   "file_extension": ".py",
   "mimetype": "text/x-python",
   "name": "python",
   "nbconvert_exporter": "python",
   "pygments_lexer": "ipython2",
   "version": "2.7.6"
  }
 },
 "nbformat": 4,
 "nbformat_minor": 0
}
